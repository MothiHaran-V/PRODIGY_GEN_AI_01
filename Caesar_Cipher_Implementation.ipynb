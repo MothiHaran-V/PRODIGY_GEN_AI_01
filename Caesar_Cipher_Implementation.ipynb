{
  "nbformat": 4,
  "nbformat_minor": 0,
  "metadata": {
    "colab": {
      "provenance": []
    },
    "kernelspec": {
      "name": "python3",
      "display_name": "Python 3"
    },
    "language_info": {
      "name": "python"
    }
  },
  "cells": [
    {
      "cell_type": "code",
      "execution_count": 1,
      "metadata": {
        "colab": {
          "base_uri": "https://localhost:8080/"
        },
        "id": "JCscpxHOZH9t",
        "outputId": "ca263ca3-8d23-422c-de5d-3d1d7bf8f7f6"
      },
      "outputs": [
        {
          "output_type": "stream",
          "name": "stdout",
          "text": [
            "Caesar Cipher Program\n",
            "Choose an option (E for Encrypt, D for Decrypt): E\n",
            "Enter your message: HARAN\n",
            "Enter shift value: 8\n",
            "Encrypted message: PIZIV\n"
          ]
        }
      ],
      "source": [
        "def encrypt(text, shift):\n",
        "    result = \"\"\n",
        "    for char in text:\n",
        "        if char.isalpha():\n",
        "            shift_base = ord('A') if char.isupper() else ord('a')\n",
        "            result += chr((ord(char) - shift_base + shift) % 26 + shift_base)\n",
        "        else:\n",
        "            result += char  # leave non-alphabet characters unchanged\n",
        "    return result\n",
        "\n",
        "def decrypt(text, shift):\n",
        "    return encrypt(text, -shift)\n",
        "\n",
        "# Main program\n",
        "def main():\n",
        "    print(\"Caesar Cipher Program\")\n",
        "    choice = input(\"Choose an option (E for Encrypt, D for Decrypt): \").upper()\n",
        "    message = input(\"Enter your message: \")\n",
        "    shift = int(input(\"Enter shift value: \"))\n",
        "\n",
        "    if choice == 'E':\n",
        "        encrypted = encrypt(message, shift)\n",
        "        print(\"Encrypted message:\", encrypted)\n",
        "    elif choice == 'D':\n",
        "        decrypted = decrypt(message, shift)\n",
        "        print(\"Decrypted message:\", decrypted)\n",
        "    else:\n",
        "        print(\"Invalid choice!\")\n",
        "\n",
        "if __name__ == \"__main__\":\n",
        "    main()"
      ]
    }
  ]
}